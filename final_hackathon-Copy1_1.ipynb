{
 "cells": [
  {
   "cell_type": "code",
   "execution_count": 5,
   "id": "a18ab7ad",
   "metadata": {},
   "outputs": [],
   "source": [
    "import numpy as np\n",
    "import pandas as pd\n",
    "import matplotlib.pyplot as plt\n",
    "import seaborn as sns\n",
    "%matplotlib inline\n",
    "pd.pandas.set_option(\"display.max_columns\",None)"
   ]
  },
  {
   "cell_type": "code",
   "execution_count": 6,
   "id": "057b0550",
   "metadata": {},
   "outputs": [],
   "source": [
    "#load the train data\n",
    "df_train=pd.read_csv(\"C:\\Users\\Lenovo\\Downloads/Train_Data (1).csv\")"
   ]
  },
  {
   "cell_type": "code",
   "execution_count": 7,
   "id": "d12dda24",
   "metadata": {},
   "outputs": [],
   "source": [
    "df_test=pd.read_csv(\"C:\\Users\\Lenovo\\Downloads/Test_Data.csv\")"
   ]
  },
  {
   "cell_type": "code",
   "execution_count": 8,
   "id": "26f8b014",
   "metadata": {},
   "outputs": [
    {
     "data": {
      "text/html": [
       "<div>\n",
       "<style scoped>\n",
       "    .dataframe tbody tr th:only-of-type {\n",
       "        vertical-align: middle;\n",
       "    }\n",
       "\n",
       "    .dataframe tbody tr th {\n",
       "        vertical-align: top;\n",
       "    }\n",
       "\n",
       "    .dataframe thead th {\n",
       "        text-align: right;\n",
       "    }\n",
       "</style>\n",
       "<table border=\"1\" class=\"dataframe\">\n",
       "  <thead>\n",
       "    <tr style=\"text-align: right;\">\n",
       "      <th></th>\n",
       "      <th>ID1</th>\n",
       "      <th>Specific ailments</th>\n",
       "      <th>ID2</th>\n",
       "      <th>Food preference</th>\n",
       "      <th>Age</th>\n",
       "      <th>BMI</th>\n",
       "      <th>Smoker?</th>\n",
       "      <th>Living in?</th>\n",
       "      <th>Any heriditary condition?</th>\n",
       "      <th>Follow Diet</th>\n",
       "      <th>Physical activity</th>\n",
       "      <th>Regular sleeping hours</th>\n",
       "      <th>Alcohol consumption</th>\n",
       "      <th>Social interaction</th>\n",
       "      <th>Taking supplements</th>\n",
       "      <th>Mental health management</th>\n",
       "      <th>Illness count last year</th>\n",
       "    </tr>\n",
       "  </thead>\n",
       "  <tbody>\n",
       "    <tr>\n",
       "      <th>0</th>\n",
       "      <td>28534</td>\n",
       "      <td>2</td>\n",
       "      <td>3306</td>\n",
       "      <td>DX6</td>\n",
       "      <td>38</td>\n",
       "      <td>18.879331</td>\n",
       "      <td>YES</td>\n",
       "      <td>URBAN</td>\n",
       "      <td>Stable</td>\n",
       "      <td>0.0</td>\n",
       "      <td>0.0</td>\n",
       "      <td>0.0</td>\n",
       "      <td>0.0</td>\n",
       "      <td>0.0</td>\n",
       "      <td>1.0</td>\n",
       "      <td>0.0</td>\n",
       "      <td>1.0</td>\n",
       "    </tr>\n",
       "    <tr>\n",
       "      <th>1</th>\n",
       "      <td>7970</td>\n",
       "      <td>5</td>\n",
       "      <td>5573</td>\n",
       "      <td>DX1</td>\n",
       "      <td>46</td>\n",
       "      <td>21.231991</td>\n",
       "      <td>NO</td>\n",
       "      <td>URBAN</td>\n",
       "      <td>Stable</td>\n",
       "      <td>1.0</td>\n",
       "      <td>0.0</td>\n",
       "      <td>0.0</td>\n",
       "      <td>0.0</td>\n",
       "      <td>0.0</td>\n",
       "      <td>0.0</td>\n",
       "      <td>0.0</td>\n",
       "      <td>1.0</td>\n",
       "    </tr>\n",
       "    <tr>\n",
       "      <th>2</th>\n",
       "      <td>22039</td>\n",
       "      <td>37</td>\n",
       "      <td>9305</td>\n",
       "      <td>DX4</td>\n",
       "      <td>11</td>\n",
       "      <td>17.867876</td>\n",
       "      <td>NO</td>\n",
       "      <td>RURAL</td>\n",
       "      <td>Stable</td>\n",
       "      <td>1.0</td>\n",
       "      <td>0.0</td>\n",
       "      <td>0.0</td>\n",
       "      <td>0.0</td>\n",
       "      <td>0.0</td>\n",
       "      <td>0.0</td>\n",
       "      <td>0.0</td>\n",
       "      <td>1.0</td>\n",
       "    </tr>\n",
       "    <tr>\n",
       "      <th>3</th>\n",
       "      <td>12332</td>\n",
       "      <td>44</td>\n",
       "      <td>8274</td>\n",
       "      <td>DX5</td>\n",
       "      <td>10</td>\n",
       "      <td>26.886096</td>\n",
       "      <td>NO</td>\n",
       "      <td>RURAL</td>\n",
       "      <td>Stable</td>\n",
       "      <td>1.0</td>\n",
       "      <td>0.0</td>\n",
       "      <td>0.0</td>\n",
       "      <td>1.0</td>\n",
       "      <td>0.0</td>\n",
       "      <td>0.0</td>\n",
       "      <td>0.0</td>\n",
       "      <td>2.0</td>\n",
       "    </tr>\n",
       "    <tr>\n",
       "      <th>4</th>\n",
       "      <td>4116</td>\n",
       "      <td>37</td>\n",
       "      <td>4558</td>\n",
       "      <td>DX3 DX4</td>\n",
       "      <td>3</td>\n",
       "      <td>23.362746</td>\n",
       "      <td>NO</td>\n",
       "      <td>RURAL</td>\n",
       "      <td>Stable</td>\n",
       "      <td>0.0</td>\n",
       "      <td>1.0</td>\n",
       "      <td>0.0</td>\n",
       "      <td>1.0</td>\n",
       "      <td>0.0</td>\n",
       "      <td>0.0</td>\n",
       "      <td>0.0</td>\n",
       "      <td>2.0</td>\n",
       "    </tr>\n",
       "  </tbody>\n",
       "</table>\n",
       "</div>"
      ],
      "text/plain": [
       "     ID1  Specific ailments   ID2 Food preference  Age        BMI Smoker?  \\\n",
       "0  28534                  2  3306             DX6   38  18.879331     YES   \n",
       "1   7970                  5  5573            DX1    46  21.231991      NO   \n",
       "2  22039                 37  9305            DX4    11  17.867876      NO   \n",
       "3  12332                 44  8274            DX5    10  26.886096      NO   \n",
       "4   4116                 37  4558        DX3 DX4     3  23.362746      NO   \n",
       "\n",
       "  Living in? Any heriditary condition?  Follow Diet  Physical activity  \\\n",
       "0      URBAN                    Stable          0.0                0.0   \n",
       "1      URBAN                    Stable          1.0                0.0   \n",
       "2      RURAL                    Stable          1.0                0.0   \n",
       "3      RURAL                    Stable          1.0                0.0   \n",
       "4      RURAL                    Stable          0.0                1.0   \n",
       "\n",
       "   Regular sleeping hours  Alcohol consumption  Social interaction  \\\n",
       "0                     0.0                  0.0                 0.0   \n",
       "1                     0.0                  0.0                 0.0   \n",
       "2                     0.0                  0.0                 0.0   \n",
       "3                     0.0                  1.0                 0.0   \n",
       "4                     0.0                  1.0                 0.0   \n",
       "\n",
       "   Taking supplements  Mental health management  Illness count last year  \n",
       "0                 1.0                       0.0                      1.0  \n",
       "1                 0.0                       0.0                      1.0  \n",
       "2                 0.0                       0.0                      1.0  \n",
       "3                 0.0                       0.0                      2.0  \n",
       "4                 0.0                       0.0                      2.0  "
      ]
     },
     "execution_count": 8,
     "metadata": {},
     "output_type": "execute_result"
    }
   ],
   "source": [
    "df_test.head()"
   ]
  },
  {
   "cell_type": "code",
   "execution_count": 9,
   "id": "2c7222f3",
   "metadata": {},
   "outputs": [
    {
     "data": {
      "text/plain": [
       "(6480, 17)"
      ]
     },
     "execution_count": 9,
     "metadata": {},
     "output_type": "execute_result"
    }
   ],
   "source": [
    "df_test.shape"
   ]
  },
  {
   "cell_type": "code",
   "execution_count": 10,
   "id": "115c2aa1",
   "metadata": {},
   "outputs": [],
   "source": [
    "#checking the missing values"
   ]
  },
  {
   "cell_type": "code",
   "execution_count": 11,
   "id": "ef8d120f",
   "metadata": {},
   "outputs": [
    {
     "data": {
      "text/plain": [
       "ID1                            0\n",
       "Specific ailments              0\n",
       "ID2                            0\n",
       "Food preference               10\n",
       "Age                            0\n",
       "BMI                            0\n",
       "Smoker?                        0\n",
       "Living in?                     0\n",
       "Any heriditary condition?      0\n",
       "Follow Diet                  973\n",
       "Physical activity            973\n",
       "Regular sleeping hours       973\n",
       "Alcohol consumption          973\n",
       "Social interaction           973\n",
       "Taking supplements           973\n",
       "Mental health management     973\n",
       "Illness count last year      973\n",
       "Healthy                        0\n",
       "dtype: int64"
      ]
     },
     "execution_count": 11,
     "metadata": {},
     "output_type": "execute_result"
    }
   ],
   "source": [
    "df_train.isnull().sum()"
   ]
  },
  {
   "cell_type": "code",
   "execution_count": 12,
   "id": "ceeaf09c",
   "metadata": {},
   "outputs": [
    {
     "data": {
      "text/plain": [
       "ID1                            0\n",
       "Specific ailments              0\n",
       "ID2                            0\n",
       "Food preference                3\n",
       "Age                            0\n",
       "BMI                            0\n",
       "Smoker?                        0\n",
       "Living in?                     0\n",
       "Any heriditary condition?      0\n",
       "Follow Diet                  262\n",
       "Physical activity            262\n",
       "Regular sleeping hours       262\n",
       "Alcohol consumption          262\n",
       "Social interaction           262\n",
       "Taking supplements           262\n",
       "Mental health management     262\n",
       "Illness count last year      262\n",
       "dtype: int64"
      ]
     },
     "execution_count": 12,
     "metadata": {},
     "output_type": "execute_result"
    }
   ],
   "source": [
    "df_test.isnull().sum()"
   ]
  },
  {
   "cell_type": "code",
   "execution_count": 13,
   "id": "c5ee1217",
   "metadata": {},
   "outputs": [
    {
     "data": {
      "text/plain": [
       "ID1                            int64\n",
       "Specific ailments              int64\n",
       "ID2                            int64\n",
       "Food preference               object\n",
       "Age                            int64\n",
       "BMI                          float64\n",
       "Smoker?                       object\n",
       "Living in?                    object\n",
       "Any heriditary condition?     object\n",
       "Follow Diet                  float64\n",
       "Physical activity            float64\n",
       "Regular sleeping hours       float64\n",
       "Alcohol consumption          float64\n",
       "Social interaction           float64\n",
       "Taking supplements           float64\n",
       "Mental health management     float64\n",
       "Illness count last year      float64\n",
       "Healthy                        int64\n",
       "dtype: object"
      ]
     },
     "execution_count": 13,
     "metadata": {},
     "output_type": "execute_result"
    }
   ],
   "source": [
    "df_train.dtypes"
   ]
  },
  {
   "cell_type": "code",
   "execution_count": 14,
   "id": "a35d40b9",
   "metadata": {},
   "outputs": [],
   "source": [
    "df_train.drop(['ID1','ID2'],axis=1,inplace=True)\n",
    "df_test.drop(['ID1','ID2'],axis=1,inplace=True)"
   ]
  },
  {
   "cell_type": "code",
   "execution_count": 15,
   "id": "1d2c4544",
   "metadata": {},
   "outputs": [
    {
     "data": {
      "text/plain": [
       "['Food preference', 'Smoker?', 'Living in?', 'Any heriditary condition?']"
      ]
     },
     "execution_count": 15,
     "metadata": {},
     "output_type": "execute_result"
    }
   ],
   "source": [
    "cat_cols=[i for i in df_train.columns if df_train[i].dtype=='object']\n",
    "cat_cols"
   ]
  },
  {
   "cell_type": "code",
   "execution_count": 16,
   "id": "6ca6d3cd",
   "metadata": {},
   "outputs": [
    {
     "data": {
      "text/plain": [
       "['Specific ailments',\n",
       " 'Age',\n",
       " 'BMI',\n",
       " 'Follow Diet',\n",
       " 'Physical activity',\n",
       " 'Regular sleeping hours',\n",
       " 'Alcohol consumption',\n",
       " 'Social interaction',\n",
       " 'Taking supplements',\n",
       " 'Mental health management',\n",
       " 'Illness count last year',\n",
       " 'Healthy']"
      ]
     },
     "execution_count": 16,
     "metadata": {},
     "output_type": "execute_result"
    }
   ],
   "source": [
    "num_cols=[i for i in df_train.columns if df_train[i].dtype in ['int64','float64']]\n",
    "num_cols"
   ]
  },
  {
   "cell_type": "code",
   "execution_count": 17,
   "id": "8abfa379",
   "metadata": {},
   "outputs": [],
   "source": [
    "#filling missing values"
   ]
  },
  {
   "cell_type": "code",
   "execution_count": 18,
   "id": "ac1d48ed",
   "metadata": {},
   "outputs": [],
   "source": [
    "#for food preference"
   ]
  },
  {
   "cell_type": "code",
   "execution_count": 19,
   "id": "807b694d",
   "metadata": {},
   "outputs": [],
   "source": [
    "df_train['Food preference']=df_train['Food preference'].fillna(df_train['Food preference'].mode().iloc[0])\n",
    "df_test['Food preference']=df_test['Food preference'].fillna(df_test['Food preference'].mode().iloc[0])"
   ]
  },
  {
   "cell_type": "code",
   "execution_count": 20,
   "id": "838640da",
   "metadata": {},
   "outputs": [
    {
     "data": {
      "text/plain": [
       "0"
      ]
     },
     "execution_count": 20,
     "metadata": {},
     "output_type": "execute_result"
    }
   ],
   "source": [
    "df_train['Food preference'].isnull().sum()"
   ]
  },
  {
   "cell_type": "code",
   "execution_count": 21,
   "id": "60b9fb2f",
   "metadata": {},
   "outputs": [
    {
     "data": {
      "text/plain": [
       "['Follow Diet',\n",
       " 'Physical activity',\n",
       " 'Regular sleeping hours',\n",
       " 'Alcohol consumption',\n",
       " 'Social interaction',\n",
       " 'Taking supplements',\n",
       " 'Mental health management',\n",
       " 'Illness count last year']"
      ]
     },
     "execution_count": 21,
     "metadata": {},
     "output_type": "execute_result"
    }
   ],
   "source": [
    "missing_columns=[i for i in df_train.columns if df_train[i].isnull().sum()>0 ]\n",
    "missing_columns"
   ]
  },
  {
   "cell_type": "code",
   "execution_count": 22,
   "id": "932e65cc",
   "metadata": {},
   "outputs": [],
   "source": [
    "for i in missing_columns:\n",
    "    df_train[i]=df_train[i].fillna(df_train[i].mode().iloc[0])"
   ]
  },
  {
   "cell_type": "code",
   "execution_count": 23,
   "id": "da6c289e",
   "metadata": {},
   "outputs": [
    {
     "data": {
      "text/plain": [
       "Specific ailments            0\n",
       "Food preference              0\n",
       "Age                          0\n",
       "BMI                          0\n",
       "Smoker?                      0\n",
       "Living in?                   0\n",
       "Any heriditary condition?    0\n",
       "Follow Diet                  0\n",
       "Physical activity            0\n",
       "Regular sleeping hours       0\n",
       "Alcohol consumption          0\n",
       "Social interaction           0\n",
       "Taking supplements           0\n",
       "Mental health management     0\n",
       "Illness count last year      0\n",
       "Healthy                      0\n",
       "dtype: int64"
      ]
     },
     "execution_count": 23,
     "metadata": {},
     "output_type": "execute_result"
    }
   ],
   "source": [
    "df_train.isnull().sum()"
   ]
  },
  {
   "cell_type": "code",
   "execution_count": 24,
   "id": "ec687c99",
   "metadata": {},
   "outputs": [],
   "source": [
    "for i in missing_columns:\n",
    "    df_test[i]=df_test[i].fillna(df_test[i].mode().iloc[0])"
   ]
  },
  {
   "cell_type": "code",
   "execution_count": 25,
   "id": "58208740",
   "metadata": {},
   "outputs": [
    {
     "data": {
      "text/plain": [
       "Specific ailments            0\n",
       "Food preference              0\n",
       "Age                          0\n",
       "BMI                          0\n",
       "Smoker?                      0\n",
       "Living in?                   0\n",
       "Any heriditary condition?    0\n",
       "Follow Diet                  0\n",
       "Physical activity            0\n",
       "Regular sleeping hours       0\n",
       "Alcohol consumption          0\n",
       "Social interaction           0\n",
       "Taking supplements           0\n",
       "Mental health management     0\n",
       "Illness count last year      0\n",
       "dtype: int64"
      ]
     },
     "execution_count": 25,
     "metadata": {},
     "output_type": "execute_result"
    }
   ],
   "source": [
    "df_test.isnull().sum()"
   ]
  },
  {
   "cell_type": "code",
   "execution_count": null,
   "id": "b6a9ff52",
   "metadata": {},
   "outputs": [],
   "source": []
  },
  {
   "cell_type": "code",
   "execution_count": 48,
   "id": "f9873cdd",
   "metadata": {},
   "outputs": [],
   "source": [
    "from sklearn.preprocessing import OrdinalEncoder\n",
    "\n",
    "def ordinal_encode_multiple_columns(train_data, test_data, columns):\n",
    "    ordinal_encoder = OrdinalEncoder()\n",
    "    encoded_train_data = train_data.copy()\n",
    "    encoded_test_data = test_data.copy()\n",
    "    \n",
    "    for column in columns:\n",
    "        # Fit label encoder on training data\n",
    "        ordinal_encoder.fit(train_data[[column]])\n",
    "        \n",
    "        # Apply label encoding on both training and test data\n",
    "        encoded_train_data[column] = ordinal_encoder.transform(train_data[[column]])\n",
    "        encoded_test_data[column] = ordinal_encoder.transform(test_data[[column]])\n",
    "    \n",
    "    return encoded_train_data, encoded_test_data"
   ]
  },
  {
   "cell_type": "code",
   "execution_count": 49,
   "id": "6fa5ff51",
   "metadata": {},
   "outputs": [],
   "source": [
    "encoded_train_data, encoded_test_data=ordinal_encode_multiple_columns(df_train,df_test,cat_cols)"
   ]
  },
  {
   "cell_type": "code",
   "execution_count": 50,
   "id": "0b083f27",
   "metadata": {},
   "outputs": [
    {
     "data": {
      "text/html": [
       "<div>\n",
       "<style scoped>\n",
       "    .dataframe tbody tr th:only-of-type {\n",
       "        vertical-align: middle;\n",
       "    }\n",
       "\n",
       "    .dataframe tbody tr th {\n",
       "        vertical-align: top;\n",
       "    }\n",
       "\n",
       "    .dataframe thead th {\n",
       "        text-align: right;\n",
       "    }\n",
       "</style>\n",
       "<table border=\"1\" class=\"dataframe\">\n",
       "  <thead>\n",
       "    <tr style=\"text-align: right;\">\n",
       "      <th></th>\n",
       "      <th>Specific ailments</th>\n",
       "      <th>Food preference</th>\n",
       "      <th>Age</th>\n",
       "      <th>BMI</th>\n",
       "      <th>Smoker?</th>\n",
       "      <th>Living in?</th>\n",
       "      <th>Any heriditary condition?</th>\n",
       "      <th>Follow Diet</th>\n",
       "      <th>Physical activity</th>\n",
       "      <th>Regular sleeping hours</th>\n",
       "      <th>Alcohol consumption</th>\n",
       "      <th>Social interaction</th>\n",
       "      <th>Taking supplements</th>\n",
       "      <th>Mental health management</th>\n",
       "      <th>Illness count last year</th>\n",
       "      <th>Healthy</th>\n",
       "    </tr>\n",
       "  </thead>\n",
       "  <tbody>\n",
       "    <tr>\n",
       "      <th>0</th>\n",
       "      <td>44</td>\n",
       "      <td>31.0</td>\n",
       "      <td>49</td>\n",
       "      <td>20.500470</td>\n",
       "      <td>1.0</td>\n",
       "      <td>0.0</td>\n",
       "      <td>0.0</td>\n",
       "      <td>1.0</td>\n",
       "      <td>0.0</td>\n",
       "      <td>0.0</td>\n",
       "      <td>0.0</td>\n",
       "      <td>0.0</td>\n",
       "      <td>0.0</td>\n",
       "      <td>0.0</td>\n",
       "      <td>1.0</td>\n",
       "      <td>1</td>\n",
       "    </tr>\n",
       "    <tr>\n",
       "      <th>1</th>\n",
       "      <td>39</td>\n",
       "      <td>25.0</td>\n",
       "      <td>20</td>\n",
       "      <td>26.076580</td>\n",
       "      <td>1.0</td>\n",
       "      <td>1.0</td>\n",
       "      <td>0.0</td>\n",
       "      <td>0.0</td>\n",
       "      <td>0.0</td>\n",
       "      <td>0.0</td>\n",
       "      <td>0.0</td>\n",
       "      <td>1.0</td>\n",
       "      <td>0.0</td>\n",
       "      <td>0.0</td>\n",
       "      <td>1.0</td>\n",
       "      <td>1</td>\n",
       "    </tr>\n",
       "    <tr>\n",
       "      <th>2</th>\n",
       "      <td>29</td>\n",
       "      <td>31.0</td>\n",
       "      <td>1</td>\n",
       "      <td>21.420866</td>\n",
       "      <td>1.0</td>\n",
       "      <td>1.0</td>\n",
       "      <td>0.0</td>\n",
       "      <td>1.0</td>\n",
       "      <td>0.0</td>\n",
       "      <td>0.0</td>\n",
       "      <td>0.0</td>\n",
       "      <td>0.0</td>\n",
       "      <td>0.0</td>\n",
       "      <td>0.0</td>\n",
       "      <td>1.0</td>\n",
       "      <td>0</td>\n",
       "    </tr>\n",
       "    <tr>\n",
       "      <th>3</th>\n",
       "      <td>27</td>\n",
       "      <td>0.0</td>\n",
       "      <td>30</td>\n",
       "      <td>25.203247</td>\n",
       "      <td>1.0</td>\n",
       "      <td>0.0</td>\n",
       "      <td>0.0</td>\n",
       "      <td>1.0</td>\n",
       "      <td>0.0</td>\n",
       "      <td>0.0</td>\n",
       "      <td>0.0</td>\n",
       "      <td>0.0</td>\n",
       "      <td>0.0</td>\n",
       "      <td>0.0</td>\n",
       "      <td>1.0</td>\n",
       "      <td>1</td>\n",
       "    </tr>\n",
       "    <tr>\n",
       "      <th>4</th>\n",
       "      <td>9</td>\n",
       "      <td>31.0</td>\n",
       "      <td>40</td>\n",
       "      <td>19.355846</td>\n",
       "      <td>2.0</td>\n",
       "      <td>0.0</td>\n",
       "      <td>0.0</td>\n",
       "      <td>1.0</td>\n",
       "      <td>0.0</td>\n",
       "      <td>0.0</td>\n",
       "      <td>0.0</td>\n",
       "      <td>1.0</td>\n",
       "      <td>0.0</td>\n",
       "      <td>0.0</td>\n",
       "      <td>2.0</td>\n",
       "      <td>1</td>\n",
       "    </tr>\n",
       "  </tbody>\n",
       "</table>\n",
       "</div>"
      ],
      "text/plain": [
       "   Specific ailments  Food preference  Age        BMI  Smoker?  Living in?  \\\n",
       "0                 44             31.0   49  20.500470      1.0         0.0   \n",
       "1                 39             25.0   20  26.076580      1.0         1.0   \n",
       "2                 29             31.0    1  21.420866      1.0         1.0   \n",
       "3                 27              0.0   30  25.203247      1.0         0.0   \n",
       "4                  9             31.0   40  19.355846      2.0         0.0   \n",
       "\n",
       "   Any heriditary condition?  Follow Diet  Physical activity  \\\n",
       "0                        0.0          1.0                0.0   \n",
       "1                        0.0          0.0                0.0   \n",
       "2                        0.0          1.0                0.0   \n",
       "3                        0.0          1.0                0.0   \n",
       "4                        0.0          1.0                0.0   \n",
       "\n",
       "   Regular sleeping hours  Alcohol consumption  Social interaction  \\\n",
       "0                     0.0                  0.0                 0.0   \n",
       "1                     0.0                  0.0                 1.0   \n",
       "2                     0.0                  0.0                 0.0   \n",
       "3                     0.0                  0.0                 0.0   \n",
       "4                     0.0                  0.0                 1.0   \n",
       "\n",
       "   Taking supplements  Mental health management  Illness count last year  \\\n",
       "0                 0.0                       0.0                      1.0   \n",
       "1                 0.0                       0.0                      1.0   \n",
       "2                 0.0                       0.0                      1.0   \n",
       "3                 0.0                       0.0                      1.0   \n",
       "4                 0.0                       0.0                      2.0   \n",
       "\n",
       "   Healthy  \n",
       "0        1  \n",
       "1        1  \n",
       "2        0  \n",
       "3        1  \n",
       "4        1  "
      ]
     },
     "execution_count": 50,
     "metadata": {},
     "output_type": "execute_result"
    }
   ],
   "source": [
    "encoded_train_data.head()"
   ]
  },
  {
   "cell_type": "code",
   "execution_count": 51,
   "id": "70630a9a",
   "metadata": {},
   "outputs": [
    {
     "data": {
      "text/html": [
       "<div>\n",
       "<style scoped>\n",
       "    .dataframe tbody tr th:only-of-type {\n",
       "        vertical-align: middle;\n",
       "    }\n",
       "\n",
       "    .dataframe tbody tr th {\n",
       "        vertical-align: top;\n",
       "    }\n",
       "\n",
       "    .dataframe thead th {\n",
       "        text-align: right;\n",
       "    }\n",
       "</style>\n",
       "<table border=\"1\" class=\"dataframe\">\n",
       "  <thead>\n",
       "    <tr style=\"text-align: right;\">\n",
       "      <th></th>\n",
       "      <th>Specific ailments</th>\n",
       "      <th>Food preference</th>\n",
       "      <th>Age</th>\n",
       "      <th>BMI</th>\n",
       "      <th>Smoker?</th>\n",
       "      <th>Living in?</th>\n",
       "      <th>Any heriditary condition?</th>\n",
       "      <th>Follow Diet</th>\n",
       "      <th>Physical activity</th>\n",
       "      <th>Regular sleeping hours</th>\n",
       "      <th>Alcohol consumption</th>\n",
       "      <th>Social interaction</th>\n",
       "      <th>Taking supplements</th>\n",
       "      <th>Mental health management</th>\n",
       "      <th>Illness count last year</th>\n",
       "    </tr>\n",
       "  </thead>\n",
       "  <tbody>\n",
       "    <tr>\n",
       "      <th>0</th>\n",
       "      <td>2</td>\n",
       "      <td>31.0</td>\n",
       "      <td>38</td>\n",
       "      <td>18.879331</td>\n",
       "      <td>2.0</td>\n",
       "      <td>1.0</td>\n",
       "      <td>0.0</td>\n",
       "      <td>0.0</td>\n",
       "      <td>0.0</td>\n",
       "      <td>0.0</td>\n",
       "      <td>0.0</td>\n",
       "      <td>0.0</td>\n",
       "      <td>1.0</td>\n",
       "      <td>0.0</td>\n",
       "      <td>1.0</td>\n",
       "    </tr>\n",
       "    <tr>\n",
       "      <th>1</th>\n",
       "      <td>5</td>\n",
       "      <td>0.0</td>\n",
       "      <td>46</td>\n",
       "      <td>21.231991</td>\n",
       "      <td>1.0</td>\n",
       "      <td>1.0</td>\n",
       "      <td>0.0</td>\n",
       "      <td>1.0</td>\n",
       "      <td>0.0</td>\n",
       "      <td>0.0</td>\n",
       "      <td>0.0</td>\n",
       "      <td>0.0</td>\n",
       "      <td>0.0</td>\n",
       "      <td>0.0</td>\n",
       "      <td>1.0</td>\n",
       "    </tr>\n",
       "    <tr>\n",
       "      <th>2</th>\n",
       "      <td>37</td>\n",
       "      <td>28.0</td>\n",
       "      <td>11</td>\n",
       "      <td>17.867876</td>\n",
       "      <td>1.0</td>\n",
       "      <td>0.0</td>\n",
       "      <td>0.0</td>\n",
       "      <td>1.0</td>\n",
       "      <td>0.0</td>\n",
       "      <td>0.0</td>\n",
       "      <td>0.0</td>\n",
       "      <td>0.0</td>\n",
       "      <td>0.0</td>\n",
       "      <td>0.0</td>\n",
       "      <td>1.0</td>\n",
       "    </tr>\n",
       "    <tr>\n",
       "      <th>3</th>\n",
       "      <td>44</td>\n",
       "      <td>30.0</td>\n",
       "      <td>10</td>\n",
       "      <td>26.886096</td>\n",
       "      <td>1.0</td>\n",
       "      <td>0.0</td>\n",
       "      <td>0.0</td>\n",
       "      <td>1.0</td>\n",
       "      <td>0.0</td>\n",
       "      <td>0.0</td>\n",
       "      <td>1.0</td>\n",
       "      <td>0.0</td>\n",
       "      <td>0.0</td>\n",
       "      <td>0.0</td>\n",
       "      <td>2.0</td>\n",
       "    </tr>\n",
       "    <tr>\n",
       "      <th>4</th>\n",
       "      <td>37</td>\n",
       "      <td>25.0</td>\n",
       "      <td>3</td>\n",
       "      <td>23.362746</td>\n",
       "      <td>1.0</td>\n",
       "      <td>0.0</td>\n",
       "      <td>0.0</td>\n",
       "      <td>0.0</td>\n",
       "      <td>1.0</td>\n",
       "      <td>0.0</td>\n",
       "      <td>1.0</td>\n",
       "      <td>0.0</td>\n",
       "      <td>0.0</td>\n",
       "      <td>0.0</td>\n",
       "      <td>2.0</td>\n",
       "    </tr>\n",
       "  </tbody>\n",
       "</table>\n",
       "</div>"
      ],
      "text/plain": [
       "   Specific ailments  Food preference  Age        BMI  Smoker?  Living in?  \\\n",
       "0                  2             31.0   38  18.879331      2.0         1.0   \n",
       "1                  5              0.0   46  21.231991      1.0         1.0   \n",
       "2                 37             28.0   11  17.867876      1.0         0.0   \n",
       "3                 44             30.0   10  26.886096      1.0         0.0   \n",
       "4                 37             25.0    3  23.362746      1.0         0.0   \n",
       "\n",
       "   Any heriditary condition?  Follow Diet  Physical activity  \\\n",
       "0                        0.0          0.0                0.0   \n",
       "1                        0.0          1.0                0.0   \n",
       "2                        0.0          1.0                0.0   \n",
       "3                        0.0          1.0                0.0   \n",
       "4                        0.0          0.0                1.0   \n",
       "\n",
       "   Regular sleeping hours  Alcohol consumption  Social interaction  \\\n",
       "0                     0.0                  0.0                 0.0   \n",
       "1                     0.0                  0.0                 0.0   \n",
       "2                     0.0                  0.0                 0.0   \n",
       "3                     0.0                  1.0                 0.0   \n",
       "4                     0.0                  1.0                 0.0   \n",
       "\n",
       "   Taking supplements  Mental health management  Illness count last year  \n",
       "0                 1.0                       0.0                      1.0  \n",
       "1                 0.0                       0.0                      1.0  \n",
       "2                 0.0                       0.0                      1.0  \n",
       "3                 0.0                       0.0                      2.0  \n",
       "4                 0.0                       0.0                      2.0  "
      ]
     },
     "execution_count": 51,
     "metadata": {},
     "output_type": "execute_result"
    }
   ],
   "source": [
    "encoded_test_data.head()"
   ]
  },
  {
   "cell_type": "code",
   "execution_count": 54,
   "id": "23aaf108",
   "metadata": {},
   "outputs": [],
   "source": [
    "from sklearn.preprocessing import StandardScaler\n",
    "ss=StandardScaler()\n",
    "a=ss.fit_transform(encoded_train_data[['Age','BMI']])\n",
    "b=ss.transform(encoded_test_data[['Age','BMI']])\n"
   ]
  },
  {
   "cell_type": "code",
   "execution_count": 55,
   "id": "93feaf57",
   "metadata": {},
   "outputs": [],
   "source": [
    "final_train_data=pd.concat([pd.DataFrame(a,columns=['Age','BMI']),encoded_train_data.drop(['Age','BMI'],axis=1).reset_index(drop=True)],axis=1)"
   ]
  },
  {
   "cell_type": "code",
   "execution_count": 56,
   "id": "3e06f60a",
   "metadata": {},
   "outputs": [],
   "source": [
    "final_test_data=pd.concat([pd.DataFrame(b,columns=['Age','BMI']),encoded_test_data.drop(['Age','BMI'],axis=1).reset_index(drop=True)],axis=1)"
   ]
  },
  {
   "cell_type": "code",
   "execution_count": 57,
   "id": "5f1bcb0e",
   "metadata": {},
   "outputs": [],
   "source": [
    "X_train=final_train_data.iloc[:,0:15]\n",
    "\n",
    "y_train=final_train_data.loc[:,'Healthy']\n",
    "\n",
    "X_test=final_test_data"
   ]
  },
  {
   "cell_type": "code",
   "execution_count": 59,
   "id": "95f557a4",
   "metadata": {},
   "outputs": [],
   "source": [
    "#logistic regression"
   ]
  },
  {
   "cell_type": "code",
   "execution_count": 60,
   "id": "09dd9aab",
   "metadata": {},
   "outputs": [],
   "source": [
    "from sklearn.linear_model import LogisticRegression\n",
    "lr=LogisticRegression(max_iter=200)\n",
    "lr.fit(X_train,y_train)\n",
    "\n",
    "pred_logistic=lr.predict(X_test)"
   ]
  },
  {
   "cell_type": "code",
   "execution_count": 62,
   "id": "dac80fe4",
   "metadata": {},
   "outputs": [
    {
     "name": "stdout",
     "output_type": "stream",
     "text": [
      "(array([0, 1], dtype=int64), array([1778, 4702], dtype=int64))\n"
     ]
    }
   ],
   "source": [
    "pred_logistic=pd.DataFrame(pred_logistic)"
   ]
  },
  {
   "cell_type": "code",
   "execution_count": null,
   "id": "2d9ec20b",
   "metadata": {},
   "outputs": [],
   "source": [
    "pred_logistic.to_csv('output_logistic.csv', index=False,header=False)"
   ]
  },
  {
   "cell_type": "code",
   "execution_count": null,
   "id": "06c6bb4f",
   "metadata": {},
   "outputs": [],
   "source": []
  }
 ],
 "metadata": {
  "kernelspec": {
   "display_name": "Python 3 (ipykernel)",
   "language": "python",
   "name": "python3"
  },
  "language_info": {
   "codemirror_mode": {
    "name": "ipython",
    "version": 3
   },
   "file_extension": ".py",
   "mimetype": "text/x-python",
   "name": "python",
   "nbconvert_exporter": "python",
   "pygments_lexer": "ipython3",
   "version": "3.9.13"
  }
 },
 "nbformat": 4,
 "nbformat_minor": 5
}
